{
  "nbformat": 4,
  "nbformat_minor": 0,
  "metadata": {
    "colab": {
      "name": "surekhasatti@gmail.com_op1.ipynb",
      "version": "0.3.2",
      "provenance": [],
      "collapsed_sections": []
    },
    "kernelspec": {
      "name": "python3",
      "display_name": "Python 3"
    }
  },
  "cells": [
    {
      "cell_type": "markdown",
      "metadata": {
        "id": "C9xTtgwokEyW",
        "colab_type": "text"
      },
      "source": [
        "\n",
        "\n",
        "---\n",
        "\n",
        "\n",
        "\n",
        "> >**Q 1)Multiplication Table of Given Number in the given Range**\n",
        "\n",
        "\n"
      ]
    },
    {
      "cell_type": "code",
      "metadata": {
        "id": "xqy2iLr9kAhm",
        "colab_type": "code",
        "outputId": "970cf869-4e73-4d49-b6ae-1811d4fce375",
        "colab": {
          "base_uri": "https://localhost:8080/",
          "height": 487
        }
      },
      "source": [
        "def __mul_table(n,x):\n",
        "    for i in range(1,x+1):\n",
        "        print(\"{0} * {1} = {2}\".format(n,i,n*i))\n",
        "    \n",
        "\n",
        "n=int(input(\"Enter Integer number for multiplication Table:\" ))\n",
        "x=int(input(\"enter the range of multiplication Table:\"))\n",
        "print(\"The multplication of the given number {0} for given range {1}:\".format(n,x))\n",
        "__mul_table(n,x)"
      ],
      "execution_count": 0,
      "outputs": [
        {
          "output_type": "stream",
          "text": [
            "Enter Integer number for multiplication Table:10\n",
            "enter the range of multiplication Table:25\n",
            "The multplication of the given number 10 for given range 25\n",
            "10 * 1 = 10\n",
            "10 * 2 = 20\n",
            "10 * 3 = 30\n",
            "10 * 4 = 40\n",
            "10 * 5 = 50\n",
            "10 * 6 = 60\n",
            "10 * 7 = 70\n",
            "10 * 8 = 80\n",
            "10 * 9 = 90\n",
            "10 * 10 = 100\n",
            "10 * 11 = 110\n",
            "10 * 12 = 120\n",
            "10 * 13 = 130\n",
            "10 * 14 = 140\n",
            "10 * 15 = 150\n",
            "10 * 16 = 160\n",
            "10 * 17 = 170\n",
            "10 * 18 = 180\n",
            "10 * 19 = 190\n",
            "10 * 20 = 200\n",
            "10 * 21 = 210\n",
            "10 * 22 = 220\n",
            "10 * 23 = 230\n",
            "10 * 24 = 240\n",
            "10 * 25 = 250\n"
          ],
          "name": "stdout"
        }
      ]
    },
    {
      "cell_type": "markdown",
      "metadata": {
        "id": "E48maup95eYC",
        "colab_type": "text"
      },
      "source": [
        "\n",
        "\n",
        "---\n",
        "\n",
        "\n",
        "\n",
        ">> **Q 2) Twin Primes below 1000**\n",
        "\n",
        "\n",
        "---\n",
        "\n",
        "\n",
        "\n"
      ]
    },
    {
      "cell_type": "code",
      "metadata": {
        "id": "tLPY2ZER4Qkw",
        "colab_type": "code",
        "outputId": "bb476697-67b2-4d6c-d7e5-85b5f636b1d4",
        "colab": {
          "base_uri": "https://localhost:8080/",
          "height": 622
        }
      },
      "source": [
        "print(\"The Twin primes below 1000 are:\")\n",
        "def __prime(num):\n",
        "    for x in range(2,num):\n",
        "        if num%x== 0:\n",
        "            return False\n",
        "    return True\n",
        "               \n",
        "  \n",
        "def __Twins_prime__(f,l): \n",
        "    for i in range(f,l):\n",
        "        j=i+2\n",
        "        \n",
        "        if(__prime(i) and __prime(j)):\n",
        "            print(\"[{0},{1}]\".format(i,j))\n",
        "\n",
        "\n",
        "__Twins_prime__(2,1000)\n",
        "\n"
      ],
      "execution_count": 0,
      "outputs": [
        {
          "output_type": "stream",
          "text": [
            "The Twin primes below 1000 are:\n",
            "[3,5]\n",
            "[5,7]\n",
            "[11,13]\n",
            "[17,19]\n",
            "[29,31]\n",
            "[41,43]\n",
            "[59,61]\n",
            "[71,73]\n",
            "[101,103]\n",
            "[107,109]\n",
            "[137,139]\n",
            "[149,151]\n",
            "[179,181]\n",
            "[191,193]\n",
            "[197,199]\n",
            "[227,229]\n",
            "[239,241]\n",
            "[269,271]\n",
            "[281,283]\n",
            "[311,313]\n",
            "[347,349]\n",
            "[419,421]\n",
            "[431,433]\n",
            "[461,463]\n",
            "[521,523]\n",
            "[569,571]\n",
            "[599,601]\n",
            "[617,619]\n",
            "[641,643]\n",
            "[659,661]\n",
            "[809,811]\n",
            "[821,823]\n",
            "[827,829]\n",
            "[857,859]\n",
            "[881,883]\n"
          ],
          "name": "stdout"
        }
      ]
    },
    {
      "cell_type": "markdown",
      "metadata": {
        "id": "NhsWS6cVFROE",
        "colab_type": "text"
      },
      "source": [
        "**Q 3) Prime Factors of a given number**\n",
        "\n",
        "                 \n",
        "\n"
      ]
    },
    {
      "cell_type": "code",
      "metadata": {
        "id": "8_V1dhVWI2i0",
        "colab_type": "code",
        "outputId": "c0f13182-9cb1-447b-c968-f52599849853",
        "colab": {
          "base_uri": "https://localhost:8080/",
          "height": 67
        }
      },
      "source": [
        "num=int(input(\"Please enter Positive Integer:\"))\n",
        "print(\"The prime factors of given number are :\")\n",
        "\n",
        "def __prime_fact(n):\n",
        "    \n",
        "    fact = []\n",
        "    i=2\n",
        "    while i<= n:\n",
        "        if n % i:\n",
        "            i += 1\n",
        "        else:\n",
        "            n //= i\n",
        "            fact.append(i)\n",
        "    return fact\n",
        "    \n",
        "print(__prime_fact(num))"
      ],
      "execution_count": 0,
      "outputs": [
        {
          "output_type": "stream",
          "text": [
            "Please enter Positive Integer:56\n",
            "The prime factors of given number are :\n",
            "[2, 2, 2, 7]\n"
          ],
          "name": "stdout"
        }
      ]
    },
    {
      "cell_type": "markdown",
      "metadata": {
        "id": "nmM2wgMCYtRB",
        "colab_type": "text"
      },
      "source": [
        ">>**Q 4) Permutations and combinations**"
      ]
    },
    {
      "cell_type": "code",
      "metadata": {
        "id": "Ey7bqJXSZ08X",
        "colab_type": "code",
        "outputId": "8bf93d87-a272-47ca-c94d-7df7c72f2d1d",
        "colab": {
          "base_uri": "https://localhost:8080/",
          "height": 84
        }
      },
      "source": [
        "def fact(n):\n",
        "    return 1 if n == 1 or n == 0 else (n * factorial(n-1))\n",
        "\n",
        "def __permut(n,r):\n",
        "    return(int(fact(n)/fact(n-r)))\n",
        "  \n",
        "def __Comb(n,r):\n",
        "  #return(int(fact(n)/(fact(r)*fact(n-r))))\n",
        "  return(int((__permut(n,r))/(fact(r))))\n",
        "  \n",
        "n=int(input(\"Enter the value n :\" ))\n",
        "r=int(input(\"Enter the value r :\" ))\n",
        "print(\"The Permutations for given values:{0}\".format(__permut(n,r)))\n",
        "print(\"The combinations for given values:\",__Comb(n,r))\n",
        "\n",
        "\n"
      ],
      "execution_count": 0,
      "outputs": [
        {
          "output_type": "stream",
          "text": [
            "Enter the value n :8\n",
            "Enter the value r :3\n",
            "The Permutations for given values:336\n",
            "The combinations for given values: 56\n"
          ],
          "name": "stdout"
        }
      ]
    },
    {
      "cell_type": "markdown",
      "metadata": {
        "id": "yGaN_oEOga5p",
        "colab_type": "text"
      },
      "source": [
        "\n",
        "---\n",
        ">>>**Q:5)Decimal Number to Binary**\n",
        "\n",
        "\n",
        "---\n",
        "\n",
        "\n",
        "\n",
        "\n",
        "\n",
        "\n"
      ]
    },
    {
      "cell_type": "code",
      "metadata": {
        "id": "h0I_puoegrda",
        "colab_type": "code",
        "outputId": "448460dc-e771-4b9a-c151-62cd8587e5d5",
        "colab": {
          "base_uri": "https://localhost:8080/",
          "height": 84
        }
      },
      "source": [
        "\n",
        "def Dec_Bin(num):\n",
        "    if num > 1:\n",
        "        decimalToBinary(num // 2)\n",
        "    print(num % 2,end='')\n",
        "\n",
        "\n",
        "num = int(input(\"Enter any Decimal number: \"))\n",
        "print(\"Binary form of given number:\")\n",
        "Dec_Bin(num)\n",
        "\n",
        "print(\"\\nBinary form with inbuilt function:\",bin(num))"
      ],
      "execution_count": 0,
      "outputs": [
        {
          "output_type": "stream",
          "text": [
            "Enter any Decimal number: 25\n",
            "Binary form of given number:\n",
            "11001\n",
            "Binary form with inbuilt function: 0b11001\n"
          ],
          "name": "stdout"
        }
      ]
    },
    {
      "cell_type": "markdown",
      "metadata": {
        "id": "HQn9dhd5m6nC",
        "colab_type": "text"
      },
      "source": [
        "**Q 6) Cube sum and IsArmstrong Verification**"
      ]
    },
    {
      "cell_type": "code",
      "metadata": {
        "id": "pJK_wkkAn4TX",
        "colab_type": "code",
        "outputId": "3e46e81b-91aa-471c-be15-3e1efc07a012",
        "colab": {
          "base_uri": "https://localhost:8080/",
          "height": 67
        }
      },
      "source": [
        "def cubesum(num):\n",
        "    sum=0\n",
        "    while num:\n",
        "        #l=len(str(num))\n",
        "        x=num%10\n",
        "        num=num//10\n",
        "        sum+=x**3\n",
        "    return sum\n",
        "def isArmstrong(num):\n",
        "    if(num == cubesum(num)):\n",
        "        PrintArmstrong(num)\n",
        "    else:\n",
        "        print(\"Given Number {0} is not an Armstrong\".format(num))\n",
        "    \n",
        "    \n",
        "def PrintArmstrong(num):\n",
        "    print(\"Given number {0} is an Armstrong\".format(num))    \n",
        "    \n",
        "        \n",
        "num=int(input(\"Enter number:\"))\n",
        "print(\"The sum of cube of given number is:\",cubesum(num))\n",
        "isArmstrong(num)\n"
      ],
      "execution_count": 0,
      "outputs": [
        {
          "output_type": "stream",
          "text": [
            "Enter number:407\n",
            "The sum of cube of given number is: 407\n",
            "Given number 407 is an Armstrong\n"
          ],
          "name": "stdout"
        }
      ]
    },
    {
      "cell_type": "code",
      "metadata": {
        "id": "89WLXcwBjLgO",
        "colab_type": "code",
        "outputId": "aa0fdead-d2f3-4317-8886-391040380194",
        "colab": {
          "base_uri": "https://localhost:8080/",
          "height": 67
        }
      },
      "source": [
        "##########Armstrong for n digit number#######\n",
        "def nsum(num):\n",
        "    sum=0\n",
        "    l=len(str(num))\n",
        "    while num:\n",
        "        x=num%10\n",
        "        num=num//10\n",
        "        sum+=x**l\n",
        "    return sum\n",
        "def isArmstrong(num):\n",
        "    if(num == nsum(num)):\n",
        "        PrintArmstrong(num)\n",
        "    else:\n",
        "        print(\"Given Number {0} is not Armstrong\".format(num))\n",
        "    \n",
        "    \n",
        "def PrintArmstrong(num):\n",
        "    print(\"Given number {0} is an Armstrong\".format(num))\n",
        "    \n",
        "    \n",
        "    \n",
        "        \n",
        "num=int(input(\"Enter number:\"))\n",
        "print(\"The sum of power of given number is:\",nsum(num))\n",
        "isArmstrong(num)"
      ],
      "execution_count": 0,
      "outputs": [
        {
          "output_type": "stream",
          "text": [
            "Enter number:35641594208964132\n",
            "The sum of power of given number is: 35641594208964132\n",
            "Given number 35641594208964132 is an Armstrong\n"
          ],
          "name": "stdout"
        }
      ]
    },
    {
      "cell_type": "markdown",
      "metadata": {
        "id": "_YYbLMuyjzZO",
        "colab_type": "text"
      },
      "source": [
        "\n",
        "\n",
        "---\n",
        ">>>**Q 7)Product of Given number**\n",
        "\n",
        "---\n",
        "\n",
        "\n",
        "\n"
      ]
    },
    {
      "cell_type": "code",
      "metadata": {
        "id": "4MF44S_FkFlP",
        "colab_type": "code",
        "outputId": "c5d145d6-21f2-494c-8904-f2a695773752",
        "colab": {
          "base_uri": "https://localhost:8080/",
          "height": 50
        }
      },
      "source": [
        "def prodDigits(num):\n",
        "    prod=1\n",
        "    while num:\n",
        "        x=num%10\n",
        "        num=num//10\n",
        "        prod*=x\n",
        "    return prod\n",
        "\n",
        "  \n",
        "num=int(input(\"Enter number:\"))\n",
        "print(\"The product of digits of Given number:\",prodDigits(num))"
      ],
      "execution_count": 0,
      "outputs": [
        {
          "output_type": "stream",
          "text": [
            "Enter number:222222\n",
            "The product of digits of Given number: 64\n"
          ],
          "name": "stdout"
        }
      ]
    },
    {
      "cell_type": "markdown",
      "metadata": {
        "id": "slLQEklYmAOO",
        "colab_type": "text"
      },
      "source": [
        "\n",
        "\n",
        "---\n",
        "\n",
        "\n",
        "**Q 8) multiplicative digital and multiplicative persistence**\n",
        "\n",
        "\n",
        "---\n",
        "\n"
      ]
    },
    {
      "cell_type": "code",
      "metadata": {
        "id": "vyWKFnUs3rBG",
        "colab_type": "code",
        "outputId": "3cedc4e2-d073-4ccf-d5bb-dfb4311202f1",
        "colab": {
          "base_uri": "https://localhost:8080/",
          "height": 67
        }
      },
      "source": [
        "\n",
        "def MDR(num):\n",
        "    #print(,num)\n",
        "    l=1\n",
        "    lst=[num]\n",
        "    x=num\n",
        "    count=0\n",
        "    while l:\n",
        "        x=prodDigits(x)\n",
        "        l=len(str(x))\n",
        "        count=count+1\n",
        "        lst.append(x)    \n",
        "        if(l==1):\n",
        "            print(\"The multiplicative persistence of n:\",count)\n",
        "            return lst\n",
        "            break\n",
        "              \n",
        "num=int(input(\"Enter number:\"))\n",
        "print(\"The multiplicative digital root of n:\",MDR(num))\n"
      ],
      "execution_count": 0,
      "outputs": [
        {
          "output_type": "stream",
          "text": [
            "Enter number:86\n",
            "The multiplicative persistence of n: 3\n",
            "The multiplicative digital root of n: [86, 48, 32, 6]\n"
          ],
          "name": "stdout"
        }
      ]
    },
    {
      "cell_type": "markdown",
      "metadata": {
        "id": "rjIkV46-zK_a",
        "colab_type": "text"
      },
      "source": [
        "\n",
        "\n",
        "---\n",
        "\n",
        "**Q 9) Perfect Divisors**"
      ]
    },
    {
      "cell_type": "code",
      "metadata": {
        "id": "D3bS1Qu6x2EI",
        "colab_type": "code",
        "outputId": "f49e6589-9105-46cb-f973-67c883a71705",
        "colab": {
          "base_uri": "https://localhost:8080/",
          "height": 50
        }
      },
      "source": [
        "def sumPdivisors(num):\n",
        "    div=[]\n",
        "    for i in range(1,num//2+1):\n",
        "        if(num%i==0):\n",
        "            div.append(i)\n",
        "    return div        \n",
        "            \n",
        "    \n",
        "num=int(input(\"Enter number::\"))\n",
        "print(\"The perfect divisors are::\",sumPdivisors(num))\n",
        "    "
      ],
      "execution_count": 0,
      "outputs": [
        {
          "output_type": "stream",
          "text": [
            "Enter number::496\n",
            "The perfect divisors are:: [1, 2, 4, 8, 16, 31, 62, 124, 248]\n"
          ],
          "name": "stdout"
        }
      ]
    },
    {
      "cell_type": "markdown",
      "metadata": {
        "id": "4tdb4DH5Adqd",
        "colab_type": "text"
      },
      "source": [
        ">>**Q 10) Perfect Number**"
      ]
    },
    {
      "cell_type": "code",
      "metadata": {
        "id": "8Jzo9weiAm-z",
        "colab_type": "code",
        "outputId": "b57c8c7f-9fb5-4d38-a587-b883f0dbea7e",
        "colab": {
          "base_uri": "https://localhost:8080/",
          "height": 118
        }
      },
      "source": [
        "def perfectdiv(f,l):\n",
        "    for i in range(f,l):\n",
        "        lst=sumPdivisors(i)\n",
        "        if(i == sum(lst)):\n",
        "             print(\"{0} is a perferct Number\".format(i))\n",
        "             \n",
        "              \n",
        "f=int(input(\"Enter minrange::\"))\n",
        "l=int(input(\"Enter maxrange::\"))\n",
        "perfectdiv(f,l)           "
      ],
      "execution_count": 0,
      "outputs": [
        {
          "output_type": "stream",
          "text": [
            "Enter minrange::4\n",
            "Enter maxrange::10000\n",
            "6 is a perferct Number\n",
            "28 is a perferct Number\n",
            "496 is a perferct Number\n",
            "8128 is a perferct Number\n"
          ],
          "name": "stdout"
        }
      ]
    },
    {
      "cell_type": "markdown",
      "metadata": {
        "id": "KGb70lHfA0wN",
        "colab_type": "text"
      },
      "source": [
        "**Q 11) Amicable Numbers**"
      ]
    },
    {
      "cell_type": "code",
      "metadata": {
        "id": "IgLaXyvGA0Fg",
        "colab_type": "code",
        "outputId": "4c13ea4f-cbbe-4baf-f3cd-138547b5fa13",
        "colab": {
          "base_uri": "https://localhost:8080/",
          "height": 218
        }
      },
      "source": [
        "\n",
        "def amicnum(f,l):\n",
        "  for i in range(f,l):    \n",
        "      lst=sum(sumPdivisors(i))\n",
        "      x=sum(sumPdivisors(lst))\n",
        "      #print(\"{0} and {1} \".format(lst,x))\n",
        "      if(x==i) and (x!=lst):\n",
        "          print(\"{0} and {1} are amicable\".format(x,lst))\n",
        "          \n",
        "          \n",
        "f=int(input(\"Enter minrange::\"))\n",
        "l=int(input(\"Enter maxrange::\"))\n",
        "\n",
        "amicnum(f,l)"
      ],
      "execution_count": 0,
      "outputs": [
        {
          "output_type": "stream",
          "text": [
            "Enter minrange::220\n",
            "Enter maxrange::6369\n",
            "220 and 284 are amicable\n",
            "284 and 220 are amicable\n",
            "1184 and 1210 are amicable\n",
            "1210 and 1184 are amicable\n",
            "2620 and 2924 are amicable\n",
            "2924 and 2620 are amicable\n",
            "5020 and 5564 are amicable\n",
            "5564 and 5020 are amicable\n",
            "6232 and 6368 are amicable\n",
            "6368 and 6232 are amicable\n"
          ],
          "name": "stdout"
        }
      ]
    },
    {
      "cell_type": "markdown",
      "metadata": {
        "id": "2-Mo0MNJ8vaH",
        "colab_type": "text"
      },
      "source": [
        "\n",
        "\n",
        "---\n",
        ">>>**Q12 ) Filter Function**\n",
        "\n",
        "\n",
        "---\n",
        "\n",
        "\n"
      ]
    },
    {
      "cell_type": "code",
      "metadata": {
        "id": "nP0JylTK_31F",
        "colab_type": "code",
        "outputId": "71a4074d-b487-404d-bdff-b8f5a157657a",
        "colab": {
          "base_uri": "https://localhost:8080/",
          "height": 67
        }
      },
      "source": [
        "\n",
        "print(\"Enter list with spaces\")\n",
        "lst  = [int(i) for i in input().split()]\n",
        "odd=filter(lambda x : x % 2 , lst)\n",
        "\n",
        "print(\"odd Numbers in the list:\",list(odd))"
      ],
      "execution_count": 0,
      "outputs": [
        {
          "output_type": "stream",
          "text": [
            "Enter list with spaces\n",
            "12 46 78 90 30 12 1 3 4 76 89 34 43 20 121 23\n",
            "odd Numbers in the list: [1, 3, 89, 43, 121, 23]\n"
          ],
          "name": "stdout"
        }
      ]
    },
    {
      "cell_type": "markdown",
      "metadata": {
        "id": "sjSueiPEO3XT",
        "colab_type": "text"
      },
      "source": [
        "\n",
        "\n",
        "---\n",
        "\n",
        "**Q13) Map function**"
      ]
    },
    {
      "cell_type": "code",
      "metadata": {
        "id": "R_cpPhG1O-Zm",
        "colab_type": "code",
        "outputId": "e6a1db57-8c90-4ef9-fe7b-48ff98633609",
        "colab": {
          "base_uri": "https://localhost:8080/",
          "height": 67
        }
      },
      "source": [
        "print(\"Enter list with spaces\")\n",
        "lst  = [int(i) for i in input().split()]\n",
        "cube=map(lambda x : x **3 , lst)\n",
        "print(\"Cube of Given List:\",list(cube))"
      ],
      "execution_count": 0,
      "outputs": [
        {
          "output_type": "stream",
          "text": [
            "Enter list with spaces\n",
            "2 3 4 6 8 9 \n",
            "Cube of Given List: [8, 27, 64, 216, 512, 729]\n"
          ],
          "name": "stdout"
        }
      ]
    },
    {
      "cell_type": "markdown",
      "metadata": {
        "id": "YEbedvn-P5Nd",
        "colab_type": "text"
      },
      "source": [
        "\n",
        "\n",
        "---\n",
        "\n",
        ">>**Q14) Filter and Map Functions**"
      ]
    },
    {
      "cell_type": "code",
      "metadata": {
        "id": "Hri1XItvPiiD",
        "colab_type": "code",
        "outputId": "97cea065-8f6b-4017-cb93-8b8c03f10554",
        "colab": {
          "base_uri": "https://localhost:8080/",
          "height": 67
        }
      },
      "source": [
        "print(\"Enter list with spaces\")\n",
        "lst  = [int(i) for i in input().split()]\n",
        "even=filter(lambda x : (x%2==0) , lst)\n",
        "cube=map(lambda x : x **3 , even)\n",
        "print(\"Cube of the even numbers in given list:\",list(cube))"
      ],
      "execution_count": 0,
      "outputs": [
        {
          "output_type": "stream",
          "text": [
            "Enter list with spaces\n",
            "2 3 5 6 8 9 10 20 30\n",
            "Cube of the even numbers in given list: [8, 216, 512, 1000, 8000, 27000]\n"
          ],
          "name": "stdout"
        }
      ]
    },
    {
      "cell_type": "code",
      "metadata": {
        "id": "CQ9V2q-tRixx",
        "colab_type": "code",
        "colab": {}
      },
      "source": [
        ""
      ],
      "execution_count": 0,
      "outputs": []
    }
  ]
}